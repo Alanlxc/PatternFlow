{
 "cells": [
  {
   "cell_type": "markdown",
   "id": "f212a37d",
   "metadata": {},
   "source": [
    "# TASK 2 : Multi-Layer GCN model by Facebook Large Page-Page Network dataset\n",
    "\n",
    "## Xuacnhe.Liu / S4654830\n",
    "\n",
    "## Description\n",
    "\n",
    "This project is for the Facebook Large Page-Page Network dataset. Also used the \"facebook.npz\" as the partially processed dataset where the features are in the form of 128 dim vectors.\n",
    "\n",
    "- Directed: No.\n",
    "- Node features: Yes.\n",
    "- Edge features: No.\n",
    "- Node labels: Yes. Binary-labeled.\n",
    "- Temporal: No.\n",
    "\n",
    "Facebook  |\n",
    "\n",
    "|---|---|\n",
    "\n",
    "| Nodes |22,470   | \n",
    "\n",
    "| Edges | 171,002  |\n",
    "\n",
    "| Density |  0.001 | \n",
    "\n",
    "| Transitvity | 0.232| \n",
    "\n",
    "<https://snap.stanford.edu/data/facebook-large-page-page-network.html>\n",
    "\n",
    "Create a suitable multi-layer GCN model to carry out a semi supervised multi-class node classification. include a TSNE embeddings plot with ground truth in colors.\n",
    "\n",
    "![png](GCN_principle.png)\n",
    "\n"
   ]
  },
  {
   "cell_type": "markdown",
   "id": "73c0c90e",
   "metadata": {},
   "source": []
  }
 ],
 "metadata": {
  "kernelspec": {
   "display_name": "Python 3",
   "language": "python",
   "name": "python3"
  },
  "language_info": {
   "codemirror_mode": {
    "name": "ipython",
    "version": 3
   },
   "file_extension": ".py",
   "mimetype": "text/x-python",
   "name": "python",
   "nbconvert_exporter": "python",
   "pygments_lexer": "ipython3",
   "version": "3.9.6"
  }
 },
 "nbformat": 4,
 "nbformat_minor": 5
}
